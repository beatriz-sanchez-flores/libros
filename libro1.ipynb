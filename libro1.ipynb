{
 "cells": [
  {
   "cell_type": "markdown",
   "source": [
    "# Instalación y configuracion de Anaconda"
   ],
   "metadata": {}
  },
  {
   "cell_type": "markdown",
   "source": [
    "## Basta con ejecutar este archivo y pasar por las diferentes etapas de seguridad aceptando la confianza al fabricante, lo cual nos lleva a la siguiente ventana de inicio"
   ],
   "metadata": {}
  },
  {
   "cell_type": "markdown",
   "source": [
    "![](imagen\\1.png)"
   ],
   "metadata": {}
  },
  {
   "cell_type": "markdown",
   "source": [
    "![](imagen\\2.png)"
   ],
   "metadata": {}
  },
  {
   "cell_type": "markdown",
   "source": [],
   "metadata": {}
  },
  {
   "cell_type": "markdown",
   "source": [
    "## Debe aceptar en primer lugar la licencia, y luego seleccionar si desea instalar el producto para usted (Just Me (recommended)) o bien para todos los usuarios (All Users (requires admin privileges)), sabiendo que puede resultar útil, en función de su uso del sistema de cuentas de Windows, instalar la aplicación para todos los usuarios."
   ],
   "metadata": {}
  },
  {
   "cell_type": "markdown",
   "source": [
    "![](imagen\\4.png)"
   ],
   "metadata": {}
  },
  {
   "cell_type": "markdown",
   "source": [
    "## Una vez realizada esta etapa, debe seleccionar la ruta en la que se instalarán Python y sus librerías:"
   ],
   "metadata": {}
  },
  {
   "cell_type": "markdown",
   "source": [
    "![](imagen\\5.png)"
   ],
   "metadata": {}
  },
  {
   "cell_type": "markdown",
   "source": [
    "## Register Anaconda as my default Python 3.5 es la otra opción importante que debe marcar, pues le permite utilizar Anaconda como versión principal de Python (la que se invocará por los principales programas que utilicen Python, por ejemplo PyCharm, que veremos más adelante)."
   ],
   "metadata": {}
  },
  {
   "cell_type": "markdown",
   "source": [
    "![](imagen\\6.png)"
   ],
   "metadata": {}
  },
  {
   "cell_type": "markdown",
   "source": [
    "![](imagen\\7.png)"
   ],
   "metadata": {}
  },
  {
   "cell_type": "markdown",
   "source": [
    "## Y por último finalizamos, y lo abrimos por si lo va a necesitar"
   ],
   "metadata": {}
  },
  {
   "cell_type": "markdown",
   "source": [
    "![](imagen\\9.png)"
   ],
   "metadata": {}
  },
  {
   "cell_type": "markdown",
   "source": [
    "## con el comando jupyter notebook probamos en la Shell de Anaconda si la instalación es correcta, y nos manda  a la web"
   ],
   "metadata": {}
  },
  {
   "cell_type": "markdown",
   "source": [
    "![](imagen\\10.png)"
   ],
   "metadata": {}
  },
  {
   "cell_type": "markdown",
   "source": [
    "## 2.\tUso de paquetes predeterminados en Jupyter Notebook"
   ],
   "metadata": {}
  },
  {
   "cell_type": "markdown",
   "source": [],
   "metadata": {}
  },
  {
   "cell_type": "markdown",
   "source": [
    "## a.\tExplore e investigue que paquetes se integran con la instalación de jupyter Notebook de Anaconda"
   ],
   "metadata": {}
  },
  {
   "cell_type": "markdown",
   "source": [
    "![](imagen\\11.png)"
   ],
   "metadata": {}
  },
  {
   "cell_type": "markdown",
   "source": [
    "## b.\tEstructura de un cuaderno de jupyter notebook"
   ],
   "metadata": {}
  },
  {
   "cell_type": "markdown",
   "source": [
    "## ¿Cómo está dividido un cuaderno de jupyter notebook?"
   ],
   "metadata": {}
  },
  {
   "cell_type": "markdown",
   "source": [
    "### El cuaderno Jupyter consta de tres componentes."
   ],
   "metadata": {}
  },
  {
   "cell_type": "markdown",
   "source": [
    "### La aplicación web del cuaderno: Para escribir y ejecutar código en un entorno interactivo.\r\n",
    "### Núcleos: Kernel es un motor de cálculo que ejecuta el código de los usuarios presente en el documento del cuaderno en un idioma determinado y devuelve la salida a la aplicación web del cuaderno. El kernel también se ocupa de cálculos para widgets interactivos, introspección y finalización de pestañas.\r\n",
    "### Documentos de cuaderno: Un documento es una representación de todo el contenido visible en la aplicación web del cuaderno. Esto incluye entrada y salida de cálculos, gráficos, texto narrativo, widgets interactivos, ecuaciones, imágenes y video. Hay un kernel separado para cada documento. Los documentos del cuaderno se pueden convertir a varios formatos y compartir entre otros mediante el correo electrónico, Dropbox y herramientas de control de versiones como git.\r\n"
   ],
   "metadata": {}
  },
  {
   "cell_type": "markdown",
   "source": [
    "# ¿Cómo ejecutar código?"
   ],
   "metadata": {}
  },
  {
   "cell_type": "markdown",
   "source": [
    "### Para ejecutar la celda, necesitamos agregar algo a la celda\r\n",
    "### La celda puede contener las declaraciones escritas en un lenguaje de programación del kernel actual. Elegimos el kernel cada vez que creamos un nuevo cuaderno. Recuerde que creamos un cuaderno que elegimos Python 3. Eso significa que nuestra celda puede contener un código Python."
   ],
   "metadata": {}
  },
  {
   "cell_type": "markdown",
   "source": [
    "## 3.\tInstalación de paquetes adicionales recomendados"
   ],
   "metadata": {}
  },
  {
   "cell_type": "markdown",
   "source": [
    "## a.\tInstalación de paquetes usando Anaconda"
   ],
   "metadata": {}
  },
  {
   "cell_type": "markdown",
   "source": [
    "![](imagen\\12.png)"
   ],
   "metadata": {}
  },
  {
   "cell_type": "markdown",
   "source": [
    "## scikit-learn es una librería de python para Machine Learning y Análisis de Datos. Está basada en NumPy, SciPy y Matplotlib. Con scikit-learn podemos realizar aprendizaje supervisado y no supervisado. Podemos usarlo para resolver problemas tanto de clasificación y como de regresión."
   ],
   "metadata": {}
  },
  {
   "cell_type": "markdown",
   "source": [
    "![](imagen\\13.png)"
   ],
   "metadata": {}
  },
  {
   "cell_type": "markdown",
   "source": [
    "## pandas es una librería para el análisis de datos que cuenta con las estructuras de datos que necesitamos para limpiar los datos en bruto y que sean aptos para el análisis (por ejemplo, tablas)."
   ],
   "metadata": {}
  },
  {
   "cell_type": "markdown",
   "source": [
    "![](imagen\\14.png)"
   ],
   "metadata": {}
  },
  {
   "cell_type": "markdown",
   "source": [
    "## Numpy es una biblioteca para Python que facilita el trabajo con arrays (vectores y matrices), un tipo de dato estructurado muy utilizado en análisis de datos, en informática científica y en el área del aprendizaje automático (learning machine)."
   ],
   "metadata": {}
  },
  {
   "cell_type": "markdown",
   "source": [
    "## TensorFlow es un sistema de programación que utiliza gráficos para representar tareas informáticas. En este momento, puede ejecutar Python y luego importar tensorflow como tf."
   ],
   "metadata": {}
  },
  {
   "cell_type": "markdown",
   "source": [
    "![](imagen\\15.png)"
   ],
   "metadata": {}
  },
  {
   "cell_type": "markdown",
   "source": [
    "![](imagen\\16.png)"
   ],
   "metadata": {}
  },
  {
   "cell_type": "markdown",
   "source": [
    "## PyTorch. Es un paquete de Python diseñado para realizar cálculos numéricos haciendo uso de la programación de tensores. Además, permite su ejecución en GPU para acelerar los cálculos."
   ],
   "metadata": {}
  },
  {
   "cell_type": "markdown",
   "source": [
    "![](imagen\\17.png)"
   ],
   "metadata": {}
  },
  {
   "cell_type": "markdown",
   "source": [],
   "metadata": {}
  }
 ],
 "metadata": {
  "kernelspec": {
   "display_name": "Python 3",
   "language": "python",
   "name": "python3"
  },
  "language_info": {
   "codemirror_mode": {
    "name": "ipython",
    "version": 3
   },
   "file_extension": ".py",
   "mimetype": "text/x-python",
   "name": "python",
   "nbconvert_exporter": "python",
   "pygments_lexer": "ipython3",
   "version": "3.7.4"
  }
 },
 "nbformat": 4,
 "nbformat_minor": 2
}